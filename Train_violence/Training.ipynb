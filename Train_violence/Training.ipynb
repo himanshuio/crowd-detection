{
 "cells": [
  {
   "cell_type": "code",
   "execution_count": null,
   "metadata": {
    "colab": {
     "base_uri": "https://localhost:8080/"
    },
    "executionInfo": {
     "elapsed": 801,
     "status": "ok",
     "timestamp": 1721060815071,
     "user": {
      "displayName": "HIMANSHU DHOMANE",
      "userId": "00127738724845461538"
     },
     "user_tz": -330
    },
    "id": "5QCZR_61_Hs2",
    "outputId": "0b373533-f27d-49d4-f2f3-f2e4427a7ba6"
   },
   "outputs": [
    {
     "name": "stdout",
     "output_type": "stream",
     "text": [
      "/bin/bash: line 1: nvidia-smi: command not found\n"
     ]
    }
   ],
   "source": [
    "!nvidia-smi\n"
   ]
  },
  {
   "cell_type": "code",
   "execution_count": null,
   "metadata": {
    "id": "fdadSh_mRlwf"
   },
   "outputs": [],
   "source": [
    "from google.colab import drive\n",
    "drive.mount('/content/drive')"
   ]
  },
  {
   "cell_type": "code",
   "execution_count": null,
   "metadata": {
    "colab": {
     "base_uri": "https://localhost:8080/"
    },
    "executionInfo": {
     "elapsed": 7,
     "status": "ok",
     "timestamp": 1720981808429,
     "user": {
      "displayName": "HIMANSHU DHOMANE",
      "userId": "00127738724845461538"
     },
     "user_tz": -330
    },
    "id": "V3RCKwee_bnW",
    "outputId": "0862360b-8bdc-497a-889b-0087d74506b2"
   },
   "outputs": [
    {
     "name": "stdout",
     "output_type": "stream",
     "text": [
      "/content/drive/MyDrive/Him\n"
     ]
    }
   ],
   "source": [
    "import os\n",
    "HOME = os.getcwd()\n",
    "print(HOME)"
   ]
  },
  {
   "cell_type": "code",
   "execution_count": 5,
   "metadata": {
    "colab": {
     "base_uri": "https://localhost:8080/"
    },
    "executionInfo": {
     "elapsed": 110363,
     "status": "ok",
     "timestamp": 1721065381195,
     "user": {
      "displayName": "HIMANSHU DHOMANE",
      "userId": "00127738724845461538"
     },
     "user_tz": -330
    },
    "id": "rOi_qMKs_vvK",
    "outputId": "825bcd13-a464-41bf-f0f8-8ef386f3906f"
   },
   "outputs": [
    {
     "name": "stderr",
     "output_type": "stream",
     "text": [
      "Ultralytics YOLOv8.0.20 🚀 Python-3.10.12 torch-2.3.0+cu121 CPU\n",
      "Setup complete ✅ (2 CPUs, 12.7 GB RAM, 30.1/107.7 GB disk)\n"
     ]
    }
   ],
   "source": [
    "# Pip install method (recommended)\n",
    "\n",
    "!pip install ultralytics==8.0.20\n",
    "\n",
    "from IPython import display\n",
    "display.clear_output()\n",
    "\n",
    "import ultralytics\n",
    "ultralytics.checks()\n"
   ]
  },
  {
   "cell_type": "code",
   "execution_count": null,
   "metadata": {
    "id": "pVKNoNvm_zxh"
   },
   "outputs": [],
   "source": [
    "from ultralytics import YOLO\n",
    "\n",
    "from IPython.display import display, Image"
   ]
  },
  {
   "cell_type": "code",
   "execution_count": null,
   "metadata": {
    "colab": {
     "base_uri": "https://localhost:8080/"
    },
    "executionInfo": {
     "elapsed": 20726,
     "status": "ok",
     "timestamp": 1720973327985,
     "user": {
      "displayName": "HIMANSHU DHOMANE",
      "userId": "00127738724845461538"
     },
     "user_tz": -330
    },
    "id": "MWOatmG6_5cf",
    "outputId": "478ce1ed-236f-4a1b-f58a-82491c3710db"
   },
   "outputs": [
    {
     "name": "stdout",
     "output_type": "stream",
     "text": [
      "/content\n",
      "Downloading https://github.com/ultralytics/assets/releases/download/v0.0.0/yolov8n.pt to yolov8n.pt...\n",
      "100% 6.23M/6.23M [00:00<00:00, 70.5MB/s]\n",
      "\n",
      "2024-07-14 16:08:39.986625: E external/local_xla/xla/stream_executor/cuda/cuda_dnn.cc:9261] Unable to register cuDNN factory: Attempting to register factory for plugin cuDNN when one has already been registered\n",
      "2024-07-14 16:08:39.986683: E external/local_xla/xla/stream_executor/cuda/cuda_fft.cc:607] Unable to register cuFFT factory: Attempting to register factory for plugin cuFFT when one has already been registered\n",
      "2024-07-14 16:08:39.988229: E external/local_xla/xla/stream_executor/cuda/cuda_blas.cc:1515] Unable to register cuBLAS factory: Attempting to register factory for plugin cuBLAS when one has already been registered\n",
      "2024-07-14 16:08:39.997034: I tensorflow/core/platform/cpu_feature_guard.cc:182] This TensorFlow binary is optimized to use available CPU instructions in performance-critical operations.\n",
      "To enable the following instructions: AVX2 FMA, in other operations, rebuild TensorFlow with the appropriate compiler flags.\n",
      "2024-07-14 16:08:41.520446: W tensorflow/compiler/tf2tensorrt/utils/py_utils.cc:38] TF-TRT Warning: Could not find TensorRT\n",
      "Ultralytics YOLOv8.0.20 🚀 Python-3.10.12 torch-2.3.0+cu121 CPU\n",
      "YOLOv8n summary (fused): 168 layers, 3151904 parameters, 0 gradients, 8.7 GFLOPs\n",
      "Downloading https://media.roboflow.com/notebooks/examples/dog.jpeg to dog.jpeg...\n",
      "100% 104k/104k [00:00<00:00, 56.0MB/s]\n",
      "image 1/1 /content/dog.jpeg: 640x384 1 person, 1 car, 1 dog, 321.9ms\n",
      "Speed: 3.0ms pre-process, 321.9ms inference, 30.0ms postprocess per image at shape (1, 3, 640, 640)\n"
     ]
    }
   ],
   "source": [
    "%cd {HOME}\n",
    "!yolo task=detect mode=predict model=yolov8n.pt conf=0.25 source='https://media.roboflow.com/notebooks/examples/dog.jpeg'\n"
   ]
  },
  {
   "cell_type": "code",
   "execution_count": null,
   "metadata": {
    "colab": {
     "base_uri": "https://localhost:8080/"
    },
    "executionInfo": {
     "elapsed": 7194,
     "status": "ok",
     "timestamp": 1720973444089,
     "user": {
      "displayName": "HIMANSHU DHOMANE",
      "userId": "00127738724845461538"
     },
     "user_tz": -330
    },
    "id": "SAMzJP6PAAwK",
    "outputId": "e1397ba6-5db1-4154-f415-9bd74040f42a"
   },
   "outputs": [
    {
     "name": "stderr",
     "output_type": "stream",
     "text": [
      "Ultralytics YOLOv8.0.20 🚀 Python-3.10.12 torch-2.3.0+cu121 CPU\n",
      "YOLOv8n summary (fused): 168 layers, 3151904 parameters, 0 gradients, 8.7 GFLOPs\n",
      "Found https://media.roboflow.com/notebooks/examples/dog.jpeg locally at dog.jpeg\n"
     ]
    }
   ],
   "source": [
    "model = YOLO(f'{HOME}/yolov8n.pt')\n",
    "results = model.predict(source='https://media.roboflow.com/notebooks/examples/dog.jpeg', conf=0.25)"
   ]
  },
  {
   "cell_type": "code",
   "execution_count": null,
   "metadata": {
    "colab": {
     "base_uri": "https://localhost:8080/"
    },
    "executionInfo": {
     "elapsed": 35480,
     "status": "ok",
     "timestamp": 1720980784098,
     "user": {
      "displayName": "HIMANSHU DHOMANE",
      "userId": "00127738724845461538"
     },
     "user_tz": -330
    },
    "id": "X7FhfMRmH74z",
    "outputId": "91c170fb-6a4a-4416-8fc3-e56e05b19319"
   },
   "outputs": [
    {
     "name": "stdout",
     "output_type": "stream",
     "text": [
      "Mounted at /content/drive\n"
     ]
    }
   ],
   "source": [
    "\n",
    "from google.colab import drive\n",
    "drive.mount('/content/drive')\n"
   ]
  },
  {
   "cell_type": "code",
   "execution_count": null,
   "metadata": {
    "colab": {
     "base_uri": "https://localhost:8080/"
    },
    "executionInfo": {
     "elapsed": 809,
     "status": "ok",
     "timestamp": 1720981167187,
     "user": {
      "displayName": "HIMANSHU DHOMANE",
      "userId": "00127738724845461538"
     },
     "user_tz": -330
    },
    "id": "GIalq2hjUYrE",
    "outputId": "e0c36d44-e380-4a55-9d87-983351420c6b"
   },
   "outputs": [
    {
     "name": "stdout",
     "output_type": "stream",
     "text": [
      "/content/drive/MyDrive/Him\n"
     ]
    }
   ],
   "source": [
    "\n",
    "%cd /content/drive/MyDrive/Him\n"
   ]
  },
  {
   "cell_type": "code",
   "execution_count": null,
   "metadata": {
    "colab": {
     "base_uri": "https://localhost:8080/"
    },
    "executionInfo": {
     "elapsed": 1403155,
     "status": "ok",
     "timestamp": 1720987679585,
     "user": {
      "displayName": "HIMANSHU DHOMANE",
      "userId": "00127738724845461538"
     },
     "user_tz": -330
    },
    "id": "GnfYGMVoUY6r",
    "outputId": "c625ecf9-9012-45b3-a8d0-b63cabf78d52"
   },
   "outputs": [
    {
     "name": "stderr",
     "output_type": "stream",
     "text": [
      "Downloading https://github.com/ultralytics/assets/releases/download/v0.0.0/yolov8s.pt to yolov8s.pt...\n",
      "100%|██████████| 21.5M/21.5M [00:00<00:00, 77.9MB/s]\n",
      "\n",
      "Ultralytics YOLOv8.0.20 🚀 Python-3.10.12 torch-2.3.0+cu121 CPU\n",
      "\u001b[34m\u001b[1myolo/engine/trainer: \u001b[0mtask=detect, mode=train, model=yolov8s.yaml, data=data.yaml, epochs=25, patience=50, batch=16, imgsz=224, save=True, cache=False, device=, workers=8, project=None, name=None, exist_ok=False, pretrained=False, optimizer=SGD, verbose=False, seed=0, deterministic=True, single_cls=False, image_weights=False, rect=False, cos_lr=False, close_mosaic=10, resume=False, overlap_mask=True, mask_ratio=4, dropout=False, val=True, save_json=False, save_hybrid=False, conf=0.001, iou=0.7, max_det=300, half=False, dnn=False, plots=True, source=ultralytics/assets/, show=False, save_txt=False, save_conf=False, save_crop=False, hide_labels=False, hide_conf=False, vid_stride=1, line_thickness=3, visualize=False, augment=False, agnostic_nms=False, classes=None, retina_masks=False, boxes=True, format=torchscript, keras=False, optimize=False, int8=False, dynamic=False, simplify=False, opset=17, workspace=4, nms=False, lr0=0.01, lrf=0.01, momentum=0.937, weight_decay=0.001, warmup_epochs=3.0, warmup_momentum=0.8, warmup_bias_lr=0.1, box=7.5, cls=0.5, dfl=1.5, fl_gamma=0.0, label_smoothing=0.0, nbs=64, hsv_h=0.015, hsv_s=0.7, hsv_v=0.4, degrees=0.0, translate=0.1, scale=0.5, shear=0.0, perspective=0.0, flipud=0.0, fliplr=0.5, mosaic=1.0, mixup=0.0, copy_paste=0.0, cfg=None, v5loader=False, save_dir=runs/detect/train\n",
      "Downloading https://ultralytics.com/assets/Arial.ttf to /root/.config/Ultralytics/Arial.ttf...\n",
      "100%|██████████| 755k/755k [00:00<00:00, 19.7MB/s]\n",
      "Overriding model.yaml nc=80 with nc=1\n",
      "\n",
      "                   from  n    params  module                                       arguments                     \n",
      "  0                  -1  1       928  ultralytics.nn.modules.Conv                  [3, 32, 3, 2]                 \n",
      "  1                  -1  1     18560  ultralytics.nn.modules.Conv                  [32, 64, 3, 2]                \n",
      "  2                  -1  1     29056  ultralytics.nn.modules.C2f                   [64, 64, 1, True]             \n",
      "  3                  -1  1     73984  ultralytics.nn.modules.Conv                  [64, 128, 3, 2]               \n",
      "  4                  -1  2    197632  ultralytics.nn.modules.C2f                   [128, 128, 2, True]           \n",
      "  5                  -1  1    295424  ultralytics.nn.modules.Conv                  [128, 256, 3, 2]              \n",
      "  6                  -1  2    788480  ultralytics.nn.modules.C2f                   [256, 256, 2, True]           \n",
      "  7                  -1  1   1180672  ultralytics.nn.modules.Conv                  [256, 512, 3, 2]              \n",
      "  8                  -1  1   1838080  ultralytics.nn.modules.C2f                   [512, 512, 1, True]           \n",
      "  9                  -1  1    656896  ultralytics.nn.modules.SPPF                  [512, 512, 5]                 \n",
      " 10                  -1  1         0  torch.nn.modules.upsampling.Upsample         [None, 2, 'nearest']          \n",
      " 11             [-1, 6]  1         0  ultralytics.nn.modules.Concat                [1]                           \n",
      " 12                  -1  1    591360  ultralytics.nn.modules.C2f                   [768, 256, 1]                 \n",
      " 13                  -1  1         0  torch.nn.modules.upsampling.Upsample         [None, 2, 'nearest']          \n",
      " 14             [-1, 4]  1         0  ultralytics.nn.modules.Concat                [1]                           \n",
      " 15                  -1  1    148224  ultralytics.nn.modules.C2f                   [384, 128, 1]                 \n",
      " 16                  -1  1    147712  ultralytics.nn.modules.Conv                  [128, 128, 3, 2]              \n",
      " 17            [-1, 12]  1         0  ultralytics.nn.modules.Concat                [1]                           \n",
      " 18                  -1  1    493056  ultralytics.nn.modules.C2f                   [384, 256, 1]                 \n",
      " 19                  -1  1    590336  ultralytics.nn.modules.Conv                  [256, 256, 3, 2]              \n",
      " 20             [-1, 9]  1         0  ultralytics.nn.modules.Concat                [1]                           \n",
      " 21                  -1  1   1969152  ultralytics.nn.modules.C2f                   [768, 512, 1]                 \n",
      " 22        [15, 18, 21]  1   2116435  ultralytics.nn.modules.Detect                [1, [128, 256, 512]]          \n",
      "Model summary: 225 layers, 11135987 parameters, 11135971 gradients, 28.6 GFLOPs\n",
      "\n",
      "Transferred 349/355 items from pretrained weights\n",
      "\u001b[34m\u001b[1moptimizer:\u001b[0m SGD(lr=0.01) with parameter groups 57 weight(decay=0.0), 64 weight(decay=0.001), 63 bias\n",
      "\u001b[34m\u001b[1mtrain: \u001b[0mScanning /content/drive/MyDrive/Him/Fight_Detection.v7i.yolov8/train/labels... 605 images, 0 backgrounds, 0 corrupt: 100%|██████████| 605/605 [04:36<00:00,  2.19it/s]\n",
      "\u001b[34m\u001b[1mtrain: \u001b[0mNew cache created: /content/drive/MyDrive/Him/Fight_Detection.v7i.yolov8/train/labels.cache\n",
      "\u001b[34m\u001b[1malbumentations: \u001b[0mBlur(p=0.01, blur_limit=(3, 7)), MedianBlur(p=0.01, blur_limit=(3, 7)), ToGray(p=0.01), CLAHE(p=0.01, clip_limit=(1, 4.0), tile_grid_size=(8, 8))\n",
      "\u001b[34m\u001b[1mval: \u001b[0mScanning /content/drive/MyDrive/Him/Fight_Detection.v7i.yolov8/valid/labels... 171 images, 0 backgrounds, 0 corrupt: 100%|██████████| 171/171 [01:16<00:00,  2.25it/s]\n",
      "\u001b[34m\u001b[1mval: \u001b[0mNew cache created: /content/drive/MyDrive/Him/Fight_Detection.v7i.yolov8/valid/labels.cache\n",
      "Image sizes 224 train, 224 val\n",
      "Using 0 dataloader workers\n",
      "Logging results to \u001b[1mruns/detect/train\u001b[0m\n",
      "Starting training for 25 epochs...\n",
      "\n",
      "      Epoch    GPU_mem   box_loss   cls_loss   dfl_loss  Instances       Size\n",
      "       1/25         0G      2.352      2.844      1.856         25        224: 100%|██████████| 38/38 [03:28<00:00,  5.50s/it]\n",
      "                 Class     Images  Instances      Box(P          R      mAP50  mAP50-95): 100%|██████████| 6/6 [00:24<00:00,  4.13s/it]\n",
      "                   all        171        180        0.2      0.272      0.148     0.0423\n",
      "\n",
      "      Epoch    GPU_mem   box_loss   cls_loss   dfl_loss  Instances       Size\n",
      "       2/25         0G      2.084      2.047      1.631         16        224: 100%|██████████| 38/38 [03:21<00:00,  5.31s/it]\n",
      "                 Class     Images  Instances      Box(P          R      mAP50  mAP50-95): 100%|██████████| 6/6 [00:23<00:00,  3.96s/it]\n",
      "                   all        171        180      0.357      0.439      0.282     0.0976\n",
      "\n",
      "      Epoch    GPU_mem   box_loss   cls_loss   dfl_loss  Instances       Size\n",
      "       3/25         0G      1.984      2.092       1.58         23        224: 100%|██████████| 38/38 [03:19<00:00,  5.25s/it]\n",
      "                 Class     Images  Instances      Box(P          R      mAP50  mAP50-95): 100%|██████████| 6/6 [00:23<00:00,  3.93s/it]\n",
      "                   all        171        180      0.347      0.322      0.258     0.0881\n",
      "\n",
      "      Epoch    GPU_mem   box_loss   cls_loss   dfl_loss  Instances       Size\n",
      "       4/25         0G      2.045      2.089      1.524         22        224: 100%|██████████| 38/38 [03:23<00:00,  5.35s/it]\n",
      "                 Class     Images  Instances      Box(P          R      mAP50  mAP50-95): 100%|██████████| 6/6 [00:22<00:00,  3.70s/it]\n",
      "                   all        171        180      0.361      0.344      0.293      0.109\n",
      "\n",
      "      Epoch    GPU_mem   box_loss   cls_loss   dfl_loss  Instances       Size\n",
      "       5/25         0G      2.066      2.026      1.539         18        224: 100%|██████████| 38/38 [03:17<00:00,  5.21s/it]\n",
      "                 Class     Images  Instances      Box(P          R      mAP50  mAP50-95): 100%|██████████| 6/6 [00:22<00:00,  3.83s/it]\n",
      "                   all        171        180      0.376      0.394       0.33      0.111\n",
      "\n",
      "      Epoch    GPU_mem   box_loss   cls_loss   dfl_loss  Instances       Size\n",
      "       6/25         0G      2.025      1.912      1.575         27        224: 100%|██████████| 38/38 [03:17<00:00,  5.19s/it]\n",
      "                 Class     Images  Instances      Box(P          R      mAP50  mAP50-95): 100%|██████████| 6/6 [00:25<00:00,  4.24s/it]\n",
      "                   all        171        180      0.173      0.433      0.203     0.0793\n",
      "\n",
      "      Epoch    GPU_mem   box_loss   cls_loss   dfl_loss  Instances       Size\n",
      "       7/25         0G      2.003      1.898      1.561         19        224: 100%|██████████| 38/38 [03:19<00:00,  5.25s/it]\n",
      "                 Class     Images  Instances      Box(P          R      mAP50  mAP50-95): 100%|██████████| 6/6 [00:23<00:00,  4.00s/it]\n",
      "                   all        171        180      0.373      0.356      0.335       0.12\n",
      "\n",
      "      Epoch    GPU_mem   box_loss   cls_loss   dfl_loss  Instances       Size\n",
      "       8/25         0G      2.054       1.88       1.58         30        224: 100%|██████████| 38/38 [03:16<00:00,  5.17s/it]\n",
      "                 Class     Images  Instances      Box(P          R      mAP50  mAP50-95): 100%|██████████| 6/6 [00:25<00:00,  4.20s/it]\n",
      "                   all        171        180      0.396      0.472      0.328      0.119\n",
      "\n",
      "      Epoch    GPU_mem   box_loss   cls_loss   dfl_loss  Instances       Size\n",
      "       9/25         0G       1.99      1.837      1.527         24        224: 100%|██████████| 38/38 [03:16<00:00,  5.16s/it]\n",
      "                 Class     Images  Instances      Box(P          R      mAP50  mAP50-95): 100%|██████████| 6/6 [00:26<00:00,  4.48s/it]\n",
      "                   all        171        180      0.421      0.538      0.434      0.156\n",
      "\n",
      "      Epoch    GPU_mem   box_loss   cls_loss   dfl_loss  Instances       Size\n",
      "      10/25         0G      1.926      1.781      1.521         22        224: 100%|██████████| 38/38 [03:16<00:00,  5.16s/it]\n",
      "                 Class     Images  Instances      Box(P          R      mAP50  mAP50-95): 100%|██████████| 6/6 [00:24<00:00,  4.04s/it]\n",
      "                   all        171        180      0.457      0.539       0.44      0.158\n",
      "\n",
      "      Epoch    GPU_mem   box_loss   cls_loss   dfl_loss  Instances       Size\n",
      "      11/25         0G      1.993      1.776      1.577         24        224: 100%|██████████| 38/38 [03:16<00:00,  5.18s/it]\n",
      "                 Class     Images  Instances      Box(P          R      mAP50  mAP50-95): 100%|██████████| 6/6 [00:24<00:00,  4.13s/it]\n",
      "                   all        171        180      0.297      0.389      0.276     0.0943\n",
      "\n",
      "      Epoch    GPU_mem   box_loss   cls_loss   dfl_loss  Instances       Size\n",
      "      12/25         0G      1.926        1.7      1.509         24        224: 100%|██████████| 38/38 [03:19<00:00,  5.25s/it]\n",
      "                 Class     Images  Instances      Box(P          R      mAP50  mAP50-95): 100%|██████████| 6/6 [00:25<00:00,  4.28s/it]\n",
      "                   all        171        180      0.443      0.461      0.449      0.137\n",
      "\n",
      "      Epoch    GPU_mem   box_loss   cls_loss   dfl_loss  Instances       Size\n",
      "      13/25         0G      1.872      1.608      1.468         22        224: 100%|██████████| 38/38 [03:16<00:00,  5.17s/it]\n",
      "                 Class     Images  Instances      Box(P          R      mAP50  mAP50-95): 100%|██████████| 6/6 [00:22<00:00,  3.77s/it]\n",
      "                   all        171        180       0.43       0.55      0.451      0.159\n",
      "\n",
      "      Epoch    GPU_mem   box_loss   cls_loss   dfl_loss  Instances       Size\n",
      "      14/25         0G        1.9      1.605      1.451         28        224: 100%|██████████| 38/38 [03:17<00:00,  5.19s/it]\n",
      "                 Class     Images  Instances      Box(P          R      mAP50  mAP50-95): 100%|██████████| 6/6 [00:22<00:00,  3.73s/it]\n",
      "                   all        171        180      0.515      0.479      0.526      0.182\n",
      "\n",
      "      Epoch    GPU_mem   box_loss   cls_loss   dfl_loss  Instances       Size\n",
      "      15/25         0G      1.881      1.565      1.432         26        224: 100%|██████████| 38/38 [03:21<00:00,  5.30s/it]\n",
      "                 Class     Images  Instances      Box(P          R      mAP50  mAP50-95): 100%|██████████| 6/6 [00:21<00:00,  3.57s/it]\n",
      "                   all        171        180      0.525      0.556      0.491      0.181\n",
      "Closing dataloader mosaic\n",
      "\u001b[34m\u001b[1malbumentations: \u001b[0mBlur(p=0.01, blur_limit=(3, 7)), MedianBlur(p=0.01, blur_limit=(3, 7)), ToGray(p=0.01), CLAHE(p=0.01, clip_limit=(1, 4.0), tile_grid_size=(8, 8))\n",
      "\n",
      "      Epoch    GPU_mem   box_loss   cls_loss   dfl_loss  Instances       Size\n",
      "      16/25         0G      1.813       1.52      1.473         14        224: 100%|██████████| 38/38 [02:55<00:00,  4.61s/it]\n",
      "                 Class     Images  Instances      Box(P          R      mAP50  mAP50-95): 100%|██████████| 6/6 [00:28<00:00,  4.70s/it]\n",
      "                   all        171        180        0.6       0.55       0.56      0.192\n",
      "\n",
      "      Epoch    GPU_mem   box_loss   cls_loss   dfl_loss  Instances       Size\n",
      "      17/25         0G      1.796      1.445      1.471         14        224: 100%|██████████| 38/38 [02:54<00:00,  4.58s/it]\n",
      "                 Class     Images  Instances      Box(P          R      mAP50  mAP50-95): 100%|██████████| 6/6 [00:21<00:00,  3.57s/it]\n",
      "                   all        171        180      0.661      0.553      0.582      0.204\n",
      "\n",
      "      Epoch    GPU_mem   box_loss   cls_loss   dfl_loss  Instances       Size\n",
      "      18/25         0G      1.684      1.351      1.406         14        224: 100%|██████████| 38/38 [02:53<00:00,  4.57s/it]\n",
      "                 Class     Images  Instances      Box(P          R      mAP50  mAP50-95): 100%|██████████| 6/6 [00:23<00:00,  3.95s/it]\n",
      "                   all        171        180      0.537      0.578       0.54      0.196\n",
      "\n",
      "      Epoch    GPU_mem   box_loss   cls_loss   dfl_loss  Instances       Size\n",
      "      19/25         0G      1.703      1.333      1.403         13        224: 100%|██████████| 38/38 [02:52<00:00,  4.53s/it]\n",
      "                 Class     Images  Instances      Box(P          R      mAP50  mAP50-95): 100%|██████████| 6/6 [00:24<00:00,  4.09s/it]\n",
      "                   all        171        180      0.619       0.56      0.615      0.233\n",
      "\n",
      "      Epoch    GPU_mem   box_loss   cls_loss   dfl_loss  Instances       Size\n",
      "      20/25         0G      1.715      1.251      1.416         13        224: 100%|██████████| 38/38 [02:54<00:00,  4.59s/it]\n",
      "                 Class     Images  Instances      Box(P          R      mAP50  mAP50-95): 100%|██████████| 6/6 [00:23<00:00,  3.85s/it]\n",
      "                   all        171        180      0.651      0.592      0.632      0.252\n",
      "\n",
      "      Epoch    GPU_mem   box_loss   cls_loss   dfl_loss  Instances       Size\n",
      "      21/25         0G      1.683      1.194      1.378         15        224: 100%|██████████| 38/38 [02:51<00:00,  4.51s/it]\n",
      "                 Class     Images  Instances      Box(P          R      mAP50  mAP50-95): 100%|██████████| 6/6 [00:22<00:00,  3.77s/it]\n",
      "                   all        171        180      0.661      0.594      0.646      0.247\n",
      "\n",
      "      Epoch    GPU_mem   box_loss   cls_loss   dfl_loss  Instances       Size\n",
      "      22/25         0G      1.608       1.13      1.331         14        224: 100%|██████████| 38/38 [02:52<00:00,  4.53s/it]\n",
      "                 Class     Images  Instances      Box(P          R      mAP50  mAP50-95): 100%|██████████| 6/6 [00:22<00:00,  3.81s/it]\n",
      "                   all        171        180      0.603      0.628      0.661      0.261\n",
      "\n",
      "      Epoch    GPU_mem   box_loss   cls_loss   dfl_loss  Instances       Size\n",
      "      23/25         0G      1.626      1.119       1.33         15        224: 100%|██████████| 38/38 [02:53<00:00,  4.58s/it]\n",
      "                 Class     Images  Instances      Box(P          R      mAP50  mAP50-95): 100%|██████████| 6/6 [00:22<00:00,  3.80s/it]\n",
      "                   all        171        180      0.652      0.661      0.684      0.261\n",
      "\n",
      "      Epoch    GPU_mem   box_loss   cls_loss   dfl_loss  Instances       Size\n",
      "      24/25         0G       1.57      1.054      1.297         15        224: 100%|██████████| 38/38 [02:51<00:00,  4.51s/it]\n",
      "                 Class     Images  Instances      Box(P          R      mAP50  mAP50-95): 100%|██████████| 6/6 [00:23<00:00,  3.95s/it]\n",
      "                   all        171        180      0.706      0.656      0.715      0.273\n",
      "\n",
      "      Epoch    GPU_mem   box_loss   cls_loss   dfl_loss  Instances       Size\n",
      "      25/25         0G       1.54      1.033      1.279         14        224: 100%|██████████| 38/38 [02:52<00:00,  4.55s/it]\n",
      "                 Class     Images  Instances      Box(P          R      mAP50  mAP50-95): 100%|██████████| 6/6 [00:24<00:00,  4.03s/it]\n",
      "                   all        171        180      0.651        0.7       0.71      0.276\n",
      "\n",
      "25 epochs completed in 1.486 hours.\n",
      "Optimizer stripped from runs/detect/train/weights/last.pt, 22.5MB\n",
      "Optimizer stripped from runs/detect/train/weights/best.pt, 22.5MB\n",
      "\n",
      "Validating runs/detect/train/weights/best.pt...\n",
      "Ultralytics YOLOv8.0.20 🚀 Python-3.10.12 torch-2.3.0+cu121 CPU\n",
      "Model summary (fused): 168 layers, 11125971 parameters, 0 gradients, 28.4 GFLOPs\n",
      "                 Class     Images  Instances      Box(P          R      mAP50  mAP50-95): 100%|██████████| 6/6 [00:30<00:00,  5.17s/it]\n",
      "                   all        171        180      0.651      0.706       0.71      0.275\n",
      "Speed: 0.4ms pre-process, 148.2ms inference, 0.0ms loss, 0.6ms post-process per image\n",
      "Results saved to \u001b[1mruns/detect/train\u001b[0m\n"
     ]
    }
   ],
   "source": [
    "from ultralytics import YOLO\n",
    "\n",
    "# Initialize the model\n",
    "model = YOLO('yolov8s.pt')\n",
    "\n",
    "# Train the model\n",
    "model.train(data='data.yaml', epochs=25, imgsz=224, plots=True)\n"
   ]
  },
  {
   "cell_type": "code",
   "execution_count": null,
   "metadata": {
    "colab": {
     "base_uri": "https://localhost:8080/"
    },
    "executionInfo": {
     "elapsed": 1021,
     "status": "ok",
     "timestamp": 1721061825916,
     "user": {
      "displayName": "HIMANSHU DHOMANE",
      "userId": "00127738724845461538"
     },
     "user_tz": -330
    },
    "id": "f8QUTvKfUY9-",
    "outputId": "c9ce3384-60a6-4675-c85c-ccf43f6b537e"
   },
   "outputs": [
    {
     "name": "stdout",
     "output_type": "stream",
     "text": [
      "ls: cannot access 'runs/detect/train/': No such file or directory\n"
     ]
    }
   ],
   "source": [
    "\n",
    "!ls runs/detect/train/"
   ]
  },
  {
   "cell_type": "code",
   "execution_count": null,
   "metadata": {
    "id": "-U6sX_kIUZBm"
   },
   "outputs": [],
   "source": [
    "\n",
    "Image(filename='runs/detect/train2/val_batch0_pred.jpg', width=600)"
   ]
  },
  {
   "cell_type": "code",
   "execution_count": null,
   "metadata": {
    "id": "Y9pOh9ToUZEw"
   },
   "outputs": [],
   "source": [
    "!yolo task=detect mode=val model=runs/detect/train2/weights/best.pt data=data.yaml"
   ]
  },
  {
   "cell_type": "code",
   "execution_count": 9,
   "metadata": {
    "colab": {
     "base_uri": "https://localhost:8080/"
    },
    "executionInfo": {
     "elapsed": 21591,
     "status": "ok",
     "timestamp": 1721066248022,
     "user": {
      "displayName": "HIMANSHU DHOMANE",
      "userId": "00127738724845461538"
     },
     "user_tz": -330
    },
    "id": "-pRue6uJUZIB",
    "outputId": "cabf88e3-0a25-4e21-e29f-7a787c6bef3c"
   },
   "outputs": [
    {
     "name": "stdout",
     "output_type": "stream",
     "text": [
      "2024-07-15 17:57:09.251067: E external/local_xla/xla/stream_executor/cuda/cuda_dnn.cc:9261] Unable to register cuDNN factory: Attempting to register factory for plugin cuDNN when one has already been registered\n",
      "2024-07-15 17:57:09.251134: E external/local_xla/xla/stream_executor/cuda/cuda_fft.cc:607] Unable to register cuFFT factory: Attempting to register factory for plugin cuFFT when one has already been registered\n",
      "2024-07-15 17:57:09.253341: E external/local_xla/xla/stream_executor/cuda/cuda_blas.cc:1515] Unable to register cuBLAS factory: Attempting to register factory for plugin cuBLAS when one has already been registered\n",
      "2024-07-15 17:57:09.264784: I tensorflow/core/platform/cpu_feature_guard.cc:182] This TensorFlow binary is optimized to use available CPU instructions in performance-critical operations.\n",
      "To enable the following instructions: AVX2 FMA, in other operations, rebuild TensorFlow with the appropriate compiler flags.\n",
      "2024-07-15 17:57:10.873184: W tensorflow/compiler/tf2tensorrt/utils/py_utils.cc:38] TF-TRT Warning: Could not find TensorRT\n",
      "Ultralytics YOLOv8.0.20 🚀 Python-3.10.12 torch-2.3.0+cu121 CPU\n",
      "Model summary (fused): 168 layers, 11125971 parameters, 0 gradients, 28.4 GFLOPs\n",
      "video 1/1 (1/60) /content/drive/MyDrive/Him/runs/detect/train/fi018.mp4: 192x224 2 Fights, 84.8ms\n",
      "video 1/1 (2/60) /content/drive/MyDrive/Him/runs/detect/train/fi018.mp4: 192x224 2 Fights, 84.1ms\n",
      "video 1/1 (3/60) /content/drive/MyDrive/Him/runs/detect/train/fi018.mp4: 192x224 2 Fights, 73.1ms\n",
      "video 1/1 (4/60) /content/drive/MyDrive/Him/runs/detect/train/fi018.mp4: 192x224 1 Fight, 74.1ms\n",
      "video 1/1 (5/60) /content/drive/MyDrive/Him/runs/detect/train/fi018.mp4: 192x224 1 Fight, 72.4ms\n",
      "video 1/1 (6/60) /content/drive/MyDrive/Him/runs/detect/train/fi018.mp4: 192x224 1 Fight, 73.9ms\n",
      "video 1/1 (7/60) /content/drive/MyDrive/Him/runs/detect/train/fi018.mp4: 192x224 2 Fights, 75.6ms\n",
      "video 1/1 (8/60) /content/drive/MyDrive/Him/runs/detect/train/fi018.mp4: 192x224 2 Fights, 71.7ms\n",
      "video 1/1 (9/60) /content/drive/MyDrive/Him/runs/detect/train/fi018.mp4: 192x224 2 Fights, 72.7ms\n",
      "video 1/1 (10/60) /content/drive/MyDrive/Him/runs/detect/train/fi018.mp4: 192x224 72.6ms\n",
      "video 1/1 (11/60) /content/drive/MyDrive/Him/runs/detect/train/fi018.mp4: 192x224 75.9ms\n",
      "video 1/1 (12/60) /content/drive/MyDrive/Him/runs/detect/train/fi018.mp4: 192x224 70.9ms\n",
      "video 1/1 (13/60) /content/drive/MyDrive/Him/runs/detect/train/fi018.mp4: 192x224 1 Fight, 74.6ms\n",
      "video 1/1 (14/60) /content/drive/MyDrive/Him/runs/detect/train/fi018.mp4: 192x224 1 Fight, 74.5ms\n",
      "video 1/1 (15/60) /content/drive/MyDrive/Him/runs/detect/train/fi018.mp4: 192x224 1 Fight, 98.0ms\n",
      "video 1/1 (16/60) /content/drive/MyDrive/Him/runs/detect/train/fi018.mp4: 192x224 78.8ms\n",
      "video 1/1 (17/60) /content/drive/MyDrive/Him/runs/detect/train/fi018.mp4: 192x224 75.9ms\n",
      "video 1/1 (18/60) /content/drive/MyDrive/Him/runs/detect/train/fi018.mp4: 192x224 70.5ms\n",
      "video 1/1 (19/60) /content/drive/MyDrive/Him/runs/detect/train/fi018.mp4: 192x224 69.7ms\n",
      "video 1/1 (20/60) /content/drive/MyDrive/Him/runs/detect/train/fi018.mp4: 192x224 70.9ms\n",
      "video 1/1 (21/60) /content/drive/MyDrive/Him/runs/detect/train/fi018.mp4: 192x224 78.4ms\n",
      "video 1/1 (22/60) /content/drive/MyDrive/Him/runs/detect/train/fi018.mp4: 192x224 70.8ms\n",
      "video 1/1 (23/60) /content/drive/MyDrive/Him/runs/detect/train/fi018.mp4: 192x224 72.8ms\n",
      "video 1/1 (24/60) /content/drive/MyDrive/Him/runs/detect/train/fi018.mp4: 192x224 73.5ms\n",
      "video 1/1 (25/60) /content/drive/MyDrive/Him/runs/detect/train/fi018.mp4: 192x224 1 Fight, 74.1ms\n",
      "video 1/1 (26/60) /content/drive/MyDrive/Him/runs/detect/train/fi018.mp4: 192x224 1 Fight, 83.6ms\n",
      "video 1/1 (27/60) /content/drive/MyDrive/Him/runs/detect/train/fi018.mp4: 192x224 1 Fight, 85.9ms\n",
      "video 1/1 (28/60) /content/drive/MyDrive/Him/runs/detect/train/fi018.mp4: 192x224 2 Fights, 83.8ms\n",
      "video 1/1 (29/60) /content/drive/MyDrive/Him/runs/detect/train/fi018.mp4: 192x224 2 Fights, 84.3ms\n",
      "video 1/1 (30/60) /content/drive/MyDrive/Him/runs/detect/train/fi018.mp4: 192x224 2 Fights, 74.9ms\n",
      "video 1/1 (31/60) /content/drive/MyDrive/Him/runs/detect/train/fi018.mp4: 192x224 1 Fight, 72.6ms\n",
      "video 1/1 (32/60) /content/drive/MyDrive/Him/runs/detect/train/fi018.mp4: 192x224 2 Fights, 76.6ms\n",
      "video 1/1 (33/60) /content/drive/MyDrive/Him/runs/detect/train/fi018.mp4: 192x224 72.1ms\n",
      "video 1/1 (34/60) /content/drive/MyDrive/Him/runs/detect/train/fi018.mp4: 192x224 73.9ms\n",
      "video 1/1 (35/60) /content/drive/MyDrive/Him/runs/detect/train/fi018.mp4: 192x224 74.6ms\n",
      "video 1/1 (36/60) /content/drive/MyDrive/Him/runs/detect/train/fi018.mp4: 192x224 1 Fight, 78.2ms\n",
      "video 1/1 (37/60) /content/drive/MyDrive/Him/runs/detect/train/fi018.mp4: 192x224 1 Fight, 74.3ms\n",
      "video 1/1 (38/60) /content/drive/MyDrive/Him/runs/detect/train/fi018.mp4: 192x224 1 Fight, 72.2ms\n",
      "video 1/1 (39/60) /content/drive/MyDrive/Him/runs/detect/train/fi018.mp4: 192x224 1 Fight, 75.5ms\n",
      "video 1/1 (40/60) /content/drive/MyDrive/Him/runs/detect/train/fi018.mp4: 192x224 1 Fight, 72.3ms\n",
      "video 1/1 (41/60) /content/drive/MyDrive/Him/runs/detect/train/fi018.mp4: 192x224 1 Fight, 79.2ms\n",
      "video 1/1 (42/60) /content/drive/MyDrive/Him/runs/detect/train/fi018.mp4: 192x224 1 Fight, 87.4ms\n",
      "video 1/1 (43/60) /content/drive/MyDrive/Him/runs/detect/train/fi018.mp4: 192x224 1 Fight, 72.9ms\n",
      "video 1/1 (44/60) /content/drive/MyDrive/Him/runs/detect/train/fi018.mp4: 192x224 1 Fight, 71.9ms\n",
      "video 1/1 (45/60) /content/drive/MyDrive/Him/runs/detect/train/fi018.mp4: 192x224 1 Fight, 74.8ms\n",
      "video 1/1 (46/60) /content/drive/MyDrive/Him/runs/detect/train/fi018.mp4: 192x224 1 Fight, 78.3ms\n",
      "video 1/1 (47/60) /content/drive/MyDrive/Him/runs/detect/train/fi018.mp4: 192x224 1 Fight, 72.6ms\n",
      "video 1/1 (48/60) /content/drive/MyDrive/Him/runs/detect/train/fi018.mp4: 192x224 1 Fight, 71.3ms\n",
      "video 1/1 (49/60) /content/drive/MyDrive/Him/runs/detect/train/fi018.mp4: 192x224 1 Fight, 91.3ms\n",
      "video 1/1 (50/60) /content/drive/MyDrive/Him/runs/detect/train/fi018.mp4: 192x224 1 Fight, 78.6ms\n",
      "video 1/1 (51/60) /content/drive/MyDrive/Him/runs/detect/train/fi018.mp4: 192x224 1 Fight, 73.6ms\n",
      "video 1/1 (52/60) /content/drive/MyDrive/Him/runs/detect/train/fi018.mp4: 192x224 1 Fight, 79.3ms\n",
      "video 1/1 (53/60) /content/drive/MyDrive/Him/runs/detect/train/fi018.mp4: 192x224 1 Fight, 80.3ms\n",
      "video 1/1 (54/60) /content/drive/MyDrive/Him/runs/detect/train/fi018.mp4: 192x224 1 Fight, 92.8ms\n",
      "video 1/1 (55/60) /content/drive/MyDrive/Him/runs/detect/train/fi018.mp4: 192x224 1 Fight, 72.6ms\n",
      "video 1/1 (56/60) /content/drive/MyDrive/Him/runs/detect/train/fi018.mp4: 192x224 1 Fight, 100.9ms\n",
      "video 1/1 (57/60) /content/drive/MyDrive/Him/runs/detect/train/fi018.mp4: 192x224 1 Fight, 81.2ms\n",
      "video 1/1 (58/60) /content/drive/MyDrive/Him/runs/detect/train/fi018.mp4: 192x224 1 Fight, 74.0ms\n",
      "video 1/1 (59/60) /content/drive/MyDrive/Him/runs/detect/train/fi018.mp4: 192x224 1 Fight, 72.1ms\n",
      "video 1/1 (60/60) /content/drive/MyDrive/Him/runs/detect/train/fi018.mp4: 192x224 1 Fight, 78.5ms\n",
      "Speed: 0.2ms pre-process, 77.1ms inference, 0.9ms postprocess per image at shape (1, 3, 224, 224)\n"
     ]
    }
   ],
   "source": [
    "\n",
    "!yolo task=detect mode=predict model=/content/drive/MyDrive/Him/runs/detect/train/weights/best.pt conf=0.25 source=/content/drive/MyDrive/Him/runs/detect/train/fi018.mp4"
   ]
  },
  {
   "cell_type": "code",
   "execution_count": 11,
   "metadata": {
    "colab": {
     "base_uri": "https://localhost:8080/",
     "height": 141
    },
    "executionInfo": {
     "elapsed": 917,
     "status": "error",
     "timestamp": 1721067523928,
     "user": {
      "displayName": "HIMANSHU DHOMANE",
      "userId": "00127738724845461538"
     },
     "user_tz": -330
    },
    "id": "cmFQUYNXnXDj",
    "outputId": "1650abe7-8fbd-4e96-910e-48039910d37a"
   },
   "outputs": [
    {
     "ename": "NameError",
     "evalue": "name 'model' is not defined",
     "output_type": "error",
     "traceback": [
      "\u001b[0;31m---------------------------------------------------------------------------\u001b[0m",
      "\u001b[0;31mNameError\u001b[0m                                 Traceback (most recent call last)",
      "\u001b[0;32m<ipython-input-11-b332869c764c>\u001b[0m in \u001b[0;36m<cell line: 1>\u001b[0;34m()\u001b[0m\n\u001b[0;32m----> 1\u001b[0;31m \u001b[0mresults\u001b[0m \u001b[0;34m=\u001b[0m \u001b[0mmodel\u001b[0m\u001b[0;34m\u001b[0m\u001b[0;34m\u001b[0m\u001b[0m\n\u001b[0m",
      "\u001b[0;31mNameError\u001b[0m: name 'model' is not defined"
     ]
    }
   ],
   "source": [
    "results = model"
   ]
  },
  {
   "cell_type": "code",
   "execution_count": null,
   "metadata": {
    "id": "03w0jJNiUZQL"
   },
   "outputs": [],
   "source": []
  },
  {
   "cell_type": "code",
   "execution_count": null,
   "metadata": {
    "id": "XPZwW47sUZTV"
   },
   "outputs": [],
   "source": []
  },
  {
   "cell_type": "code",
   "execution_count": null,
   "metadata": {
    "id": "B8O0nCexUZWa"
   },
   "outputs": [],
   "source": []
  }
 ],
 "metadata": {
  "colab": {
   "authorship_tag": "ABX9TyNKlNnJDwIX8uPYttCuIWKx",
   "mount_file_id": "169kJLDhk7sVzVWa--0C8P23xpqeGRC8F",
   "provenance": []
  },
  "kernelspec": {
   "display_name": "Python 3",
   "name": "python3"
  },
  "language_info": {
   "name": "python"
  }
 },
 "nbformat": 4,
 "nbformat_minor": 0
}
